{
 "cells": [
  {
   "cell_type": "markdown",
   "metadata": {},
   "source": [
    "<a href='https://www.hexnbit.com/'> <img src='https://www.hexnbit.com/wp-content/uploads/2019/09/hexnbit_final_66px.png'/> </a>"
   ]
  },
  {
   "cell_type": "markdown",
   "metadata": {},
   "source": [
    "# A3_Assignment"
   ]
  },
  {
   "cell_type": "markdown",
   "metadata": {},
   "source": [
    "Mentioned below are the tasks, the solution for each tasks has to be appended by inserting a new cell below the task,\n",
    "along with the following description:-\n",
    "1. Why the method was used (if applicable)\n",
    "2. Explanation of logic"
   ]
  },
  {
   "cell_type": "markdown",
   "metadata": {},
   "source": [
    "### Task 1\n",
    "\n",
    "Generate all integers between (100 and 200) both inclusive, using NumPy"
   ]
  },
  {
   "cell_type": "code",
   "execution_count": 13,
   "metadata": {},
   "outputs": [
    {
     "name": "stdout",
     "output_type": "stream",
     "text": [
      "[119 135 179 198 102 167 176 142 198 164 130 102 129 109 114 120 106 101\n",
      " 130 162 111 183 177 187 177 154 108 154 188 161 118 158 102 160 196 105\n",
      " 159 163 101 101 145 107 105 102 170 161 177 153 126 200 114 144 136 110\n",
      " 110 141 139 157 135 168 160 150 186 165 109 189 196 141 151 187 196 116\n",
      " 151 106 149 120 151 149 134 183 131 194 159 189 183 107 131 167 168 113\n",
      " 144 111 167 109 147 150 135 127 182 136]\n"
     ]
    }
   ],
   "source": [
    "import numpy as np\n",
    "x = np.random.randint(low=100, high=201, size=100)\n",
    "print(x)"
   ]
  },
  {
   "cell_type": "markdown",
   "metadata": {},
   "source": [
    "### Task2\n",
    "\n",
    "Print all even integers from the array created in Task1"
   ]
  },
  {
   "cell_type": "code",
   "execution_count": 3,
   "metadata": {},
   "outputs": [
    {
     "name": "stdout",
     "output_type": "stream",
     "text": [
      "120\n",
      "100\n",
      "184\n",
      "184\n",
      "138\n",
      "124\n",
      "184\n",
      "178\n",
      "168\n",
      "154\n",
      "176\n",
      "170\n",
      "188\n",
      "152\n",
      "170\n",
      "164\n",
      "122\n",
      "174\n",
      "172\n",
      "112\n",
      "168\n",
      "188\n",
      "138\n",
      "156\n",
      "160\n",
      "162\n",
      "138\n",
      "174\n",
      "194\n",
      "164\n",
      "190\n",
      "160\n",
      "106\n",
      "172\n",
      "194\n",
      "110\n",
      "126\n",
      "138\n",
      "148\n",
      "138\n",
      "168\n",
      "166\n",
      "188\n",
      "126\n"
     ]
    }
   ],
   "source": [
    "for i in x:\n",
    "    if i%2==0:\n",
    "        print(i)"
   ]
  },
  {
   "cell_type": "markdown",
   "metadata": {},
   "source": [
    "### Task3\n",
    "Create NumPy arrays to obtain given samples:-<br>\n",
    "**Original array_Sample 1:**<br>\n",
    "[1 0 0 0]<br>\n",
    "**Original array_Sample 2:**<br>\n",
    "[0 0 0 0]"
   ]
  },
  {
   "cell_type": "code",
   "execution_count": 11,
   "metadata": {},
   "outputs": [
    {
     "name": "stdout",
     "output_type": "stream",
     "text": [
      "[1 0 0 0]\n",
      "[0 0 0 0]\n"
     ]
    }
   ],
   "source": [
    "y = np.random.randint(low=0, high=2, size=4)\n",
    "print(y)\n",
    "z=  np.random.randint(low=0, high=1, size=4)\n",
    "print(z)"
   ]
  },
  {
   "cell_type": "markdown",
   "metadata": {},
   "source": [
    "### Task4\n",
    "\n",
    "Create a NumPy array of shape 5x5 and print the last 3 rows"
   ]
  },
  {
   "cell_type": "code",
   "execution_count": 23,
   "metadata": {},
   "outputs": [
    {
     "data": {
      "text/plain": [
       "array([[ 1,  2,  3,  4,  5],\n",
       "       [ 6,  7,  8,  9, 10],\n",
       "       [11, 12, 13, 14, 15],\n",
       "       [16, 17, 18, 19, 20],\n",
       "       [21, 22, 23, 24, 25]])"
      ]
     },
     "execution_count": 23,
     "metadata": {},
     "output_type": "execute_result"
    }
   ],
   "source": [
    "a=np.arange(1,26).reshape(5,5)\n",
    "a"
   ]
  },
  {
   "cell_type": "markdown",
   "metadata": {},
   "source": [
    "### Task3\n",
    "Write a programs to create following 3 arrays:- \n"
   ]
  },
  {
   "cell_type": "code",
   "execution_count": 29,
   "metadata": {},
   "outputs": [
    {
     "name": "stdout",
     "output_type": "stream",
     "text": [
      "[0. 0. 0. 0. 0. 0. 0. 0. 0. 0.]\n",
      "[1. 1. 1. 1. 1. 1. 1. 1. 1. 1.]\n"
     ]
    }
   ],
   "source": [
    "x=np.zeros(10)\n",
    "y=np.ones(10)\n",
    "print(x)\n",
    "print(y)"
   ]
  },
  {
   "cell_type": "code",
   "execution_count": 25,
   "metadata": {},
   "outputs": [
    {
     "data": {
      "text/plain": [
       "array([1., 1., 1., 1., 1., 1., 1., 1., 1., 1.])"
      ]
     },
     "execution_count": 25,
     "metadata": {},
     "output_type": "execute_result"
    }
   ],
   "source": [
    "np.ones(10)"
   ]
  },
  {
   "cell_type": "markdown",
   "metadata": {},
   "source": [
    "### Task4\n",
    "\n",
    "Create an array of 25 random values\n",
    "- Find the sum of all elements\n",
    "- Print the element with maximum value and minimum value"
   ]
  },
  {
   "cell_type": "code",
   "execution_count": 31,
   "metadata": {},
   "outputs": [
    {
     "name": "stdout",
     "output_type": "stream",
     "text": [
      "[104 150 140 146 151 151 110 181 122 136 180 153 113 170 101 126 152 163\n",
      " 179 195 104 160 104 168 171]\n",
      "3630\n"
     ]
    }
   ],
   "source": [
    "x = np.random.randint(low=100, high=201, size=25)\n",
    "print(x)\n",
    "sum=0\n",
    "for i in x:\n",
    "    sum=sum+i\n",
    "print(sum)"
   ]
  },
  {
   "cell_type": "markdown",
   "metadata": {},
   "source": [
    "### Task5\n",
    "\n",
    "Create an NumPy array of 100 values evenly spaced between 10 and 20"
   ]
  },
  {
   "cell_type": "code",
   "execution_count": 37,
   "metadata": {},
   "outputs": [
    {
     "data": {
      "text/plain": [
       "array([ 0, 10, 20, 30, 40, 50, 60, 70, 80, 90])"
      ]
     },
     "execution_count": 37,
     "metadata": {},
     "output_type": "execute_result"
    }
   ],
   "source": [
    "arr = np.arange(0, 100, 10)\n",
    "arr"
   ]
  },
  {
   "cell_type": "markdown",
   "metadata": {},
   "source": [
    "### Task6\n",
    "Write a NumPy program to create a 3x3x3 array with random values.\n"
   ]
  },
  {
   "cell_type": "code",
   "execution_count": 38,
   "metadata": {},
   "outputs": [
    {
     "name": "stdout",
     "output_type": "stream",
     "text": [
      "[[[0.86651593 0.77725236 0.23426267]\n",
      "  [0.21571919 0.98811159 0.45450746]\n",
      "  [0.72901289 0.76567049 0.39183779]]\n",
      "\n",
      " [[0.90730478 0.93581478 0.53731149]\n",
      "  [0.52835806 0.02080562 0.2635025 ]\n",
      "  [0.76426941 0.10270685 0.87860126]]\n",
      "\n",
      " [[0.71737229 0.85622607 0.39934892]\n",
      "  [0.65359543 0.53144775 0.66430731]\n",
      "  [0.07448061 0.90464173 0.018484  ]]]\n"
     ]
    }
   ],
   "source": [
    "import numpy as np\n",
    "x = np.random.random((3,3,3))\n",
    "print(x)"
   ]
  },
  {
   "cell_type": "markdown",
   "metadata": {},
   "source": [
    "### Task7\n",
    "Write a Python program to check that a string contains only a certain set of characters (in this case a-z, A-Z and 0-9).\n",
    "\n",
    "**Hint:**<br>\n",
    "Input: ABCDEFabcdef123450<br>\n",
    "Output: True<br>\n"
   ]
  },
  {
   "cell_type": "code",
   "execution_count": 39,
   "metadata": {},
   "outputs": [
    {
     "name": "stdout",
     "output_type": "stream",
     "text": [
      "qw2\n",
      "True\n"
     ]
    }
   ],
   "source": [
    "import re\n",
    "def is_allowed_specific_char(string):\n",
    "    charRe = re.compile(r'[^a-zA-Z0-9.]')\n",
    "    string = charRe.search(string)\n",
    "    return not bool(string)\n",
    "\n",
    "inp=input()\n",
    "\n",
    "print(is_allowed_specific_char(inp))"
   ]
  },
  {
   "cell_type": "markdown",
   "metadata": {},
   "source": [
    "### Task8\n",
    "Write a Python program to find sequences of lowercase letters joined with a underscore.\n",
    "\n",
    "**Hint:**<br>\n",
    "Input: aab_cbbbc<br>\n",
    "Output: True\n"
   ]
  },
  {
   "cell_type": "code",
   "execution_count": 43,
   "metadata": {},
   "outputs": [
    {
     "name": "stdout",
     "output_type": "stream",
     "text": [
      "qp\n",
      "False\n"
     ]
    }
   ],
   "source": [
    "import re\n",
    "def text_match(text):\n",
    "        patterns = '_'\n",
    "        if re.search(patterns,  text):\n",
    "                return 'True'\n",
    "        else:\n",
    "                return 'False'\n",
    "\n",
    "inp=input()\n",
    "\n",
    "print(text_match(inp))\n"
   ]
  },
  {
   "cell_type": "markdown",
   "metadata": {},
   "source": [
    "### Task9\n",
    "Write a Python program where a string will start with a specific number\n",
    "\n",
    "**Hint:**<br>\n",
    "Input: 5-2345861<br>\n",
    "Output: True\n"
   ]
  },
  {
   "cell_type": "code",
   "execution_count": 45,
   "metadata": {},
   "outputs": [
    {
     "name": "stdout",
     "output_type": "stream",
     "text": [
      "5-ssgs\n",
      "True\n"
     ]
    }
   ],
   "source": [
    "import re\n",
    "def match_num(string):\n",
    "    text = re.compile(r\"^5\")\n",
    "    if text.match(string):\n",
    "        return True\n",
    "    else:\n",
    "        return False\n",
    "    \n",
    "inp=input()\n",
    "\n",
    "print(match_num(inp))\n",
    "\n"
   ]
  },
  {
   "cell_type": "markdown",
   "metadata": {},
   "source": [
    "### Task10\n",
    "- Input a string from user\n",
    "- Write Python program to search if the entered string contains the keyword \"HEX\" in it.<br>\n",
    "- The search must not be case sensitive.<br>\n",
    "- The search must be able to look for multiple occurences of the keyword in the complete string.<br>\n",
    "- For all occurences, print the keyword<bt>\n",
    "- For all occurences, print the starting and ending position of the occurence in the entered string.<br>\n",
    "\n",
    "**Hint:**<br>\n",
    "    Check example output below for input string \"Bitwise AND, BITWISE NOT, bitwise OR\""
   ]
  },
  {
   "cell_type": "code",
   "execution_count": 5,
   "metadata": {},
   "outputs": [
    {
     "name": "stdout",
     "output_type": "stream",
     "text": [
      "Enter your string: Bitwise AND, BITWISE NOT, bitwise OR\n",
      "\n",
      "Found the keyword as:  Bit\n",
      "Starting Position:  0\n",
      "Ending Position:  3\n",
      "\n",
      "Found the keyword as:  BIT\n",
      "Starting Position:  13\n",
      "Ending Position:  16\n",
      "\n",
      "Found the keyword as:  bit\n",
      "Starting Position:  26\n",
      "Ending Position:  29\n",
      "\n"
     ]
    }
   ],
   "source": []
  }
 ],
 "metadata": {
  "kernelspec": {
   "display_name": "Python 3",
   "language": "python",
   "name": "python3"
  },
  "language_info": {
   "codemirror_mode": {
    "name": "ipython",
    "version": 3
   },
   "file_extension": ".py",
   "mimetype": "text/x-python",
   "name": "python",
   "nbconvert_exporter": "python",
   "pygments_lexer": "ipython3",
   "version": "3.7.3"
  }
 },
 "nbformat": 4,
 "nbformat_minor": 4
}
