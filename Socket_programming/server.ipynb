{
 "cells": [
  {
   "cell_type": "code",
   "execution_count": 11,
   "metadata": {},
   "outputs": [
    {
     "name": "stdout",
     "output_type": "stream",
     "text": [
      "Enter your Name\n",
      "vishal\n",
      " Hi Vishal!!! \n"
     ]
    }
   ],
   "source": [
    "\"\"\"Client side \"\"\"\n",
    "\n",
    "import socket \n",
    "\n",
    "c=socket.socket()\n",
    "\n",
    "c.connect(('localhost',9999)) # Know the ip adress by using ipconfig if you are using in different machine \n",
    "\n",
    "name=input(\"Enter your Name\\n\")\n",
    "\n",
    "c.send(bytes(name,'utf-8'))\n",
    "\n",
    "print(c.recv(1024).decode())"
   ]
  }
 ],
 "metadata": {
  "kernelspec": {
   "display_name": "Python 3",
   "language": "python",
   "name": "python3"
  },
  "language_info": {
   "codemirror_mode": {
    "name": "ipython",
    "version": 3
   },
   "file_extension": ".py",
   "mimetype": "text/x-python",
   "name": "python",
   "nbconvert_exporter": "python",
   "pygments_lexer": "ipython3",
   "version": "3.7.3"
  }
 },
 "nbformat": 4,
 "nbformat_minor": 2
}
