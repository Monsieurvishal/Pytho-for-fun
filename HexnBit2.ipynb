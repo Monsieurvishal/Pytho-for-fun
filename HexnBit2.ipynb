{
 "cells": [
  {
   "cell_type": "markdown",
   "metadata": {},
   "source": [
    "<a href='https://www.hexnbit.com/'> <img src='https://www.hexnbit.com/wp-content/uploads/2019/09/hexnbit_final_66px.png'/> </a>"
   ]
  },
  {
   "cell_type": "markdown",
   "metadata": {},
   "source": [
    "# A2_Assignment"
   ]
  },
  {
   "cell_type": "markdown",
   "metadata": {},
   "source": [
    "Mentioned below are the tasks, the solution for each tasks has to be appended by inserting a new cell below the task,\n",
    "along with the following description:-\n",
    "1. Why the method was used (if applicable)\n",
    "2. Explanation of logic"
   ]
  },
  {
   "cell_type": "markdown",
   "metadata": {},
   "source": [
    "### Task 1\n",
    "Create text file and write your experience with hex n bit."
   ]
  },
  {
   "cell_type": "code",
   "execution_count": 2,
   "metadata": {},
   "outputs": [],
   "source": [
    "f = open(\"Experience.txt\", \"w\")#open a file\n",
    "f.write(\"It was a wonderful Experience being a part of HexnBit. Thanks for this opportunity \")\n",
    "f.close()"
   ]
  },
  {
   "cell_type": "markdown",
   "metadata": {},
   "source": [
    "### Task 2\n",
    "Read above file in binary mode."
   ]
  },
  {
   "cell_type": "code",
   "execution_count": 6,
   "metadata": {},
   "outputs": [
    {
     "name": "stdout",
     "output_type": "stream",
     "text": [
      "b'It was a wonderful Experience being a part of HexnBit. Thanks for this opportunity '\n"
     ]
    }
   ],
   "source": [
    "f = open('Experience.txt', 'rb')\n",
    "file_content = f.read()\n",
    "print(file_content)\n",
    "f.close()"
   ]
  },
  {
   "cell_type": "markdown",
   "metadata": {},
   "source": [
    "### Task 3\n",
    "Refer task 1 and read & print all data from text file."
   ]
  },
  {
   "cell_type": "code",
   "execution_count": 7,
   "metadata": {},
   "outputs": [
    {
     "name": "stdout",
     "output_type": "stream",
     "text": [
      "It was a wonderful Experience being a part of HexnBit. Thanks for this opportunity \n"
     ]
    }
   ],
   "source": [
    "f = open('Experience.txt', 'r')\n",
    "file_content = f.read()\n",
    "print(file_content)\n",
    "f.close()"
   ]
  },
  {
   "cell_type": "markdown",
   "metadata": {},
   "source": [
    "### Task 4\n",
    "Update task 1 file & Write syntax of lambda function."
   ]
  },
  {
   "cell_type": "code",
   "execution_count": 8,
   "metadata": {},
   "outputs": [
    {
     "name": "stdout",
     "output_type": "stream",
     "text": [
      "15\n"
     ]
    }
   ],
   "source": [
    "# lambda arguments : expression\n",
    "x = lambda a: a + 10\n",
    "print(x(5))"
   ]
  },
  {
   "cell_type": "markdown",
   "metadata": {},
   "source": [
    "### Task 5"
   ]
  },
  {
   "cell_type": "markdown",
   "metadata": {},
   "source": [
    "Dump following python dictionary into json file."
   ]
  },
  {
   "cell_type": "code",
   "execution_count": 15,
   "metadata": {},
   "outputs": [],
   "source": [
    "dict1 = {\"mango\": \"yellow\", \"apple\": \"red\", \"kiwi\": \"green\"}\n",
    "import json\n",
    "with open('json.txt', 'w') as json_file:\n",
    "  json.dump(dict1, json_file)"
   ]
  },
  {
   "cell_type": "markdown",
   "metadata": {},
   "source": [
    "### Task 6\n",
    "a) Open the above created JSON file<br>\n",
    "b) Read data as dictionary<br>\n",
    "c) Print colour of \"Mango\" from the file<br>\n"
   ]
  },
  {
   "cell_type": "code",
   "execution_count": 19,
   "metadata": {},
   "outputs": [
    {
     "name": "stdout",
     "output_type": "stream",
     "text": [
      "<class 'dict'>\n",
      "yellow\n"
     ]
    }
   ],
   "source": [
    "with open('json.txt', 'r') as json_file:\n",
    "    dict2=json.load(json_file)\n",
    "    print(type(dict2))\n",
    "    print(dict2['mango'])"
   ]
  },
  {
   "cell_type": "markdown",
   "metadata": {},
   "source": [
    "### Task 7\n",
    "a) Run Below cell<br>\n",
    "b) Deserialize \"new_string\" using JSON<br>\n",
    "c) Convert the new_string variable to json object<br>\n",
    "d) Print colour of cherry from deserialized data"
   ]
  },
  {
   "cell_type": "code",
   "execution_count": 1,
   "metadata": {},
   "outputs": [
    {
     "name": "stdout",
     "output_type": "stream",
     "text": [
      "{\"banana\": \"yellow\", \"cherry\": \"red\", \"watermelon\": \"green\"}\n"
     ]
    }
   ],
   "source": [
    "import json\n",
    "new_string=\"\"\"{\"banana\": \"yellow\", \"cherry\": \"red\", \"watermelon\": \"green\"}\"\"\"\n",
    "data = json.loads(new_string)\n",
    "new_string1 = json.dumps(data, sort_keys=True, indent=3)\n",
    "print(new_string)"
   ]
  },
  {
   "cell_type": "markdown",
   "metadata": {},
   "source": [
    "### Task 8\n",
    "Perform serialization on given data.<br>\n"
   ]
  },
  {
   "cell_type": "code",
   "execution_count": 46,
   "metadata": {},
   "outputs": [],
   "source": [
    "import pickle\n",
    "data = {\n",
    "    'a': [1, 2.0, 3, 4+6j],\n",
    "    'b': (\"character string\", b\"byte string\"),\n",
    "    'c': set([None, True, False])\n",
    "}\n",
    "filename = 'serialization'\n",
    "outfile = open(filename,'wb')\n",
    "pickle.dump(data,outfile)\n",
    "outfile.close()\n"
   ]
  },
  {
   "cell_type": "markdown",
   "metadata": {},
   "source": [
    "### Task 9\n",
    "Refer task 8 & perform de-serialization"
   ]
  },
  {
   "cell_type": "code",
   "execution_count": 41,
   "metadata": {},
   "outputs": [
    {
     "name": "stdout",
     "output_type": "stream",
     "text": [
      "{'a': [1, 2.0, 3, (4+6j)], 'b': ('character string', b'byte string'), 'c': {False, True, None}}\n"
     ]
    }
   ],
   "source": [
    "infile = open(filename,'rb')\n",
    "new_dict = pickle.load(infile)\n",
    "infile.close()\n",
    "print(new_dict)"
   ]
  },
  {
   "cell_type": "markdown",
   "metadata": {},
   "source": [
    "### Task 10\n",
    "1. Create a Directory with name  \"temp\"<br>\n",
    "2. Create text file in same directories.<br>\n",
    "3. Then remove the directory.<br> Perform the task using directories function "
   ]
  },
  {
   "cell_type": "code",
   "execution_count": 28,
   "metadata": {},
   "outputs": [
    {
     "ename": "FileExistsError",
     "evalue": "[WinError 183] Cannot create a file when that file already exists: 'E:/python/temp'",
     "output_type": "error",
     "traceback": [
      "\u001b[1;31m---------------------------------------------------------------------------\u001b[0m",
      "\u001b[1;31mFileExistsError\u001b[0m                           Traceback (most recent call last)",
      "\u001b[1;32m<ipython-input-28-5991f8e01db8>\u001b[0m in \u001b[0;36m<module>\u001b[1;34m\u001b[0m\n\u001b[0;32m     10\u001b[0m \u001b[0mpath\u001b[0m \u001b[1;33m=\u001b[0m \u001b[0mos\u001b[0m\u001b[1;33m.\u001b[0m\u001b[0mpath\u001b[0m\u001b[1;33m.\u001b[0m\u001b[0mjoin\u001b[0m\u001b[1;33m(\u001b[0m\u001b[0mparent_dir\u001b[0m\u001b[1;33m,\u001b[0m \u001b[0mdirectory\u001b[0m\u001b[1;33m)\u001b[0m\u001b[1;33m\u001b[0m\u001b[1;33m\u001b[0m\u001b[0m\n\u001b[0;32m     11\u001b[0m \u001b[1;33m\u001b[0m\u001b[0m\n\u001b[1;32m---> 12\u001b[1;33m \u001b[0mos\u001b[0m\u001b[1;33m.\u001b[0m\u001b[0mmkdir\u001b[0m\u001b[1;33m(\u001b[0m\u001b[0mpath\u001b[0m\u001b[1;33m)\u001b[0m\u001b[1;33m\u001b[0m\u001b[1;33m\u001b[0m\u001b[0m\n\u001b[0m\u001b[0;32m     13\u001b[0m \u001b[1;33m\u001b[0m\u001b[0m\n\u001b[0;32m     14\u001b[0m \u001b[0mf\u001b[0m \u001b[1;33m=\u001b[0m \u001b[0mopen\u001b[0m\u001b[1;33m(\u001b[0m\u001b[1;34m\"E:\\\\python\\\\temp\\\\Test.py\"\u001b[0m\u001b[1;33m,\u001b[0m \u001b[1;34m\"a\"\u001b[0m\u001b[1;33m)\u001b[0m\u001b[1;33m\u001b[0m\u001b[1;33m\u001b[0m\u001b[0m\n",
      "\u001b[1;31mFileExistsError\u001b[0m: [WinError 183] Cannot create a file when that file already exists: 'E:/python/temp'"
     ]
    }
   ],
   "source": [
    "import os \n",
    "  \n",
    "# Directory \n",
    "directory = \"temp\"\n",
    "  \n",
    "# Parent Directory path \n",
    "parent_dir = \"E:/python/\"\n",
    "  \n",
    "# Path \n",
    "path = os.path.join(parent_dir, directory) \n",
    "\n",
    "os.mkdir(path)\n",
    "\n",
    "f = open(\"E:\\\\python\\\\temp\\\\Test.py\", \"a\")\n"
   ]
  },
  {
   "cell_type": "markdown",
   "metadata": {},
   "source": [
    "### Task 11\n",
    "Create guess the number game.<br>**Hint:** Refer Exception handling"
   ]
  },
  {
   "cell_type": "code",
   "execution_count": 43,
   "metadata": {},
   "outputs": [
    {
     "name": "stdin",
     "output_type": "stream",
     "text": [
      "Emter Lower bound:-  10\n",
      "Enter Upper bound:-  12\n",
      "Guess a number:-  11\n"
     ]
    },
    {
     "name": "stdout",
     "output_type": "stream",
     "text": [
      "You guessed too small!\n"
     ]
    },
    {
     "name": "stdin",
     "output_type": "stream",
     "text": [
      "Guess a number:-  12\n"
     ]
    },
    {
     "name": "stdout",
     "output_type": "stream",
     "text": [
      "Congratulations you did it in  2  try\n"
     ]
    }
   ],
   "source": [
    "import random\n",
    "import math\n",
    "\n",
    "lower = int(input(\"Emter Lower bound:- \")) \n",
    "\n",
    "upper = int(input(\"Enter Upper bound:- \")) \n",
    "\n",
    "# generating random number between\n",
    "# the lower and upper\n",
    "x = random.randint(lower, upper)\n",
    "\n",
    "count = 0\n",
    "\n",
    "while True:\n",
    "    count += 1\n",
    "    guess = int(input(\"Guess a number:- \")) \n",
    "    if x == guess: \n",
    "        print(\"Congratulations you did it in \", count, \" try\")\n",
    "        break\n",
    "    elif x > guess:\n",
    "        print(\"You guessed too small!\")\n",
    "    elif x < guess:\n",
    "        print(\"You Guessed too high!\")\n"
   ]
  },
  {
   "cell_type": "markdown",
   "metadata": {},
   "source": [
    "### Task 12\n",
    "  1.Divide any 2 numbers.<br>2.If the denominator is equivalent to zero then raise divide by zero error."
   ]
  },
  {
   "cell_type": "code",
   "execution_count": 29,
   "metadata": {},
   "outputs": [
    {
     "name": "stdout",
     "output_type": "stream",
     "text": [
      "zero division error\n"
     ]
    }
   ],
   "source": [
    "a=1\n",
    "b=0\n",
    "try:\n",
    "    print(a/b)\n",
    "except:\n",
    "    print('zero division error')"
   ]
  },
  {
   "cell_type": "markdown",
   "metadata": {},
   "source": [
    "### Task 13\n",
    "Create Class for calculating area of rectangle Rectangle. "
   ]
  },
  {
   "cell_type": "code",
   "execution_count": 30,
   "metadata": {},
   "outputs": [
    {
     "name": "stdout",
     "output_type": "stream",
     "text": [
      "Area of rectangle: 45\n",
      "\n"
     ]
    }
   ],
   "source": [
    "class rectangle():\n",
    "    def __init__(self,breadth,length):\n",
    "        self.breadth=breadth\n",
    "        self.length=length\n",
    "    def area(self):\n",
    "        return self.breadth*self.length\n",
    "\n",
    "obj=rectangle(5,9)\n",
    "print(\"Area of rectangle:\",obj.area())\n",
    " \n",
    "print()"
   ]
  },
  {
   "cell_type": "markdown",
   "metadata": {},
   "source": [
    "### Task 14\n",
    "Initiate above created class to Calculate area of Rectangle if:<br>\n",
    "Length = 20<br>\n",
    "Width = 2000"
   ]
  },
  {
   "cell_type": "code",
   "execution_count": 31,
   "metadata": {},
   "outputs": [
    {
     "name": "stdout",
     "output_type": "stream",
     "text": [
      "Area of rectangle: 40000\n",
      "\n"
     ]
    }
   ],
   "source": [
    "class rectangle():\n",
    "    def __init__(self,breadth,length):\n",
    "        self.breadth=breadth\n",
    "        self.length=length\n",
    "    def area(self):\n",
    "        return self.breadth*self.length\n",
    "\n",
    "obj=rectangle(2000,20)\n",
    "print(\"Area of rectangle:\",obj.area())\n",
    " \n",
    "print()"
   ]
  },
  {
   "cell_type": "markdown",
   "metadata": {},
   "source": [
    "### Task 15\n",
    "Define a class which holds Name, Age and Country of two people."
   ]
  },
  {
   "cell_type": "code",
   "execution_count": 32,
   "metadata": {},
   "outputs": [],
   "source": [
    "class data():\n",
    "    def __init__(self,Name,Age,Country):\n",
    "        self.Name=Name\n",
    "        self.Age=Age\n",
    "        self.Country=Country\n",
    "obj1=data('Vishal',21,'India')"
   ]
  },
  {
   "cell_type": "markdown",
   "metadata": {},
   "source": [
    "### Task 16\n",
    "Intialize a class with two people."
   ]
  },
  {
   "cell_type": "code",
   "execution_count": 33,
   "metadata": {},
   "outputs": [],
   "source": [
    "class data():\n",
    "    def __init__(self,person1,person2):\n",
    "        self.person1=person1\n",
    "        self.person2=person2\n",
    "obj1=data('Vishal','Rohan')"
   ]
  },
  {
   "cell_type": "markdown",
   "metadata": {},
   "source": [
    "### Task 17\n",
    "Print the detail of both the person using init() function."
   ]
  },
  {
   "cell_type": "code",
   "execution_count": 35,
   "metadata": {},
   "outputs": [
    {
     "name": "stdout",
     "output_type": "stream",
     "text": [
      "Vishal\n",
      "21\n",
      "India\n",
      "Rohan\n",
      "21\n",
      "India\n"
     ]
    }
   ],
   "source": [
    "class data():\n",
    "    def __init__(self,Name,Age,Country):\n",
    "        self.Name=Name\n",
    "        self.Age=Age\n",
    "        self.Country=Country\n",
    "        print(self.Name)\n",
    "        print(self.Age)\n",
    "        print(self.Country)\n",
    "obj1=data('Vishal',21,'India')\n",
    "obj2=data('Rohan',21,'India')"
   ]
  },
  {
   "cell_type": "markdown",
   "metadata": {},
   "source": [
    "### Task 18\n",
    "Write a program to show difference between json data type & python data type."
   ]
  },
  {
   "cell_type": "code",
   "execution_count": 47,
   "metadata": {},
   "outputs": [
    {
     "name": "stdout",
     "output_type": "stream",
     "text": [
      "{\"name\": \"John\", \"age\": 31, \"Salary\": 25000}\n"
     ]
    }
   ],
   "source": [
    "# Python program showing \n",
    "# use of json package \n",
    "\n",
    "import json \n",
    "\n",
    "# {key:value mapping} \n",
    "a ={\"name\":\"John\", \n",
    "\"age\":31, \n",
    "\"Salary\":25000} \n",
    "\n",
    "# conversion to JSON done by dumps() function \n",
    "b = json.dumps(a) \n",
    "\n",
    "# printing the output \n",
    "print(b) \n"
   ]
  },
  {
   "cell_type": "markdown",
   "metadata": {},
   "source": [
    "### Task 19\n",
    "If<br>\n",
    "a=5<br>\n",
    "b=\"Hex N Bit\"<br> Add both variable using try and except method.<br>**Hint:** raise type error"
   ]
  },
  {
   "cell_type": "code",
   "execution_count": 36,
   "metadata": {},
   "outputs": [
    {
     "name": "stdout",
     "output_type": "stream",
     "text": [
      "Error\n"
     ]
    }
   ],
   "source": [
    "a=5\n",
    "b=\"Hex N Bit\"\n",
    "try:\n",
    "    c=a+b\n",
    "except:\n",
    "    print('Error')"
   ]
  },
  {
   "cell_type": "markdown",
   "metadata": {},
   "source": [
    "### Task20\n",
    "Which of the following can be used to invoke the __init__ method in B from A, where A is a subclass of B? Choose appropriate answer.<br>\n",
    "A. super().__init__()<br>\n",
    "B. super().__init__(self)<br>\n",
    "C. B.__init__()<br>\n",
    "D. B.__init__(self)<br>"
   ]
  },
  {
   "cell_type": "markdown",
   "metadata": {},
   "source": [
    "Answer D"
   ]
  },
  {
   "cell_type": "markdown",
   "metadata": {},
   "source": [
    "### Task 21\n",
    "Write a difference between parent class & child class."
   ]
  },
  {
   "cell_type": "markdown",
   "metadata": {},
   "source": [
    "Parent class is the class being inherited from, also called base class. Child class is the class that inherits from another class, also called derived class."
   ]
  }
 ],
 "metadata": {
  "kernelspec": {
   "display_name": "Python 3",
   "language": "python",
   "name": "python3"
  },
  "language_info": {
   "codemirror_mode": {
    "name": "ipython",
    "version": 3
   },
   "file_extension": ".py",
   "mimetype": "text/x-python",
   "name": "python",
   "nbconvert_exporter": "python",
   "pygments_lexer": "ipython3",
   "version": "3.7.3"
  }
 },
 "nbformat": 4,
 "nbformat_minor": 4
}
