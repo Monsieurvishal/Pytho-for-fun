{
 "cells": [
  {
   "cell_type": "markdown",
   "metadata": {},
   "source": [
    "HexnBit Task"
   ]
  },
  {
   "cell_type": "markdown",
   "metadata": {},
   "source": [
    "Mentioned below are the tasks, the solution for each tasks has to be appended by inserting a new cell below the task,\n",
    "along with the following description:-\n",
    "1. Why the method was used (if applicable)\n",
    "2. Explanation of logic"
   ]
  },
  {
   "cell_type": "markdown",
   "metadata": {},
   "source": [
    "### Task1\n",
    "- Raise 2 to the power 10"
   ]
  },
  {
   "cell_type": "code",
   "execution_count": 2,
   "metadata": {},
   "outputs": [
    {
     "name": "stdout",
     "output_type": "stream",
     "text": [
      "The value of 2**10 is : 1024\n"
     ]
    }
   ],
   "source": [
    "# Python code to demonstrate pow() \n",
    "print (\"The value of 2**10 is : \",end=\"\") \n",
    "# Returns 81 \n",
    "print (pow(2,10)) \n",
    "#Explaination: pow is a built in method of python"
   ]
  },
  {
   "cell_type": "markdown",
   "metadata": {},
   "source": [
    "### Task2\n",
    "- From the given list, starting from Japan, print alternate elements\n",
    "- From the given list, print element at indexes 1,4,5,8 (**Hint**: Use for loop)"
   ]
  },
  {
   "cell_type": "code",
   "execution_count": 3,
   "metadata": {},
   "outputs": [
    {
     "name": "stdout",
     "output_type": "stream",
     "text": [
      "Japan\n",
      "Australia\n",
      "Africa\n",
      "Italy\n"
     ]
    }
   ],
   "source": [
    "# Task 2\n",
    "list1=[\"India\", \"Japan\",\"Singapore\",\"China\",\"Australia\",\"Africa\",\"Dubai\",\"France\",\"Italy\",\"Germany\"]\n",
    "for i in range(len(list1)):\n",
    "    if i==1 or i==4 or i==5 or i==8:\n",
    "        print(list1[i])\n",
    "        \n",
    "#Explaination: conditional control statement used to check the condition"
   ]
  },
  {
   "cell_type": "markdown",
   "metadata": {},
   "source": [
    "### Task 3\n",
    "- Generate integer between (100 to 200) using while loop.\n",
    "- if i want number till 155"
   ]
  },
  {
   "cell_type": "code",
   "execution_count": 6,
   "metadata": {},
   "outputs": [
    {
     "name": "stdin",
     "output_type": "stream",
     "text": [
      "Enter number you want to enter from 100 till .... 123\n"
     ]
    },
    {
     "name": "stdout",
     "output_type": "stream",
     "text": [
      "101\n",
      "102\n",
      "103\n",
      "104\n",
      "105\n",
      "106\n",
      "107\n",
      "108\n",
      "109\n",
      "110\n",
      "111\n",
      "112\n",
      "113\n",
      "114\n",
      "115\n",
      "116\n",
      "117\n",
      "118\n",
      "119\n",
      "120\n",
      "121\n",
      "122\n",
      "123\n"
     ]
    }
   ],
   "source": [
    "i=100\n",
    "x=int(input(\"Enter number you want to enter from 100 till ....\"))\n",
    "while True:\n",
    "    if x==i:\n",
    "        break\n",
    "    else:\n",
    "        print(i+1)\n",
    "        i=i+1\n",
    "    if i==200:\n",
    "        break\n"
   ]
  },
  {
   "cell_type": "markdown",
   "metadata": {},
   "source": [
    "### Task 4\n",
    "There are 3 height categories\n",
    "\n",
    "**167 and below  =**    Short <br>\n",
    "**168 to 182     =**    Average <br>\n",
    "**182 and above  =**    Tall<br>\n",
    "\n",
    "Write a program which gets the input from user and print, if the category of the person fits in\n",
    "\n"
   ]
  },
  {
   "cell_type": "code",
   "execution_count": 11,
   "metadata": {},
   "outputs": [
    {
     "name": "stdin",
     "output_type": "stream",
     "text": [
      "Enter the height 183\n"
     ]
    },
    {
     "name": "stdout",
     "output_type": "stream",
     "text": [
      "tall\n"
     ]
    }
   ],
   "source": [
    "height=int(input('Enter the height'))\n",
    "\n",
    "if height<=167:\n",
    "    print('Short')\n",
    "elif height>= 168 and height <=182:\n",
    "    print('Average')\n",
    "else:\n",
    "    print('tall')"
   ]
  },
  {
   "cell_type": "markdown",
   "metadata": {},
   "source": [
    "# Task 5\n",
    "Refer task 3 and print even and odd number."
   ]
  },
  {
   "cell_type": "code",
   "execution_count": 12,
   "metadata": {},
   "outputs": [
    {
     "name": "stdin",
     "output_type": "stream",
     "text": [
      "Enter number you want to enter from 100 till .... 123\n"
     ]
    },
    {
     "name": "stdout",
     "output_type": "stream",
     "text": [
      "even 100\n",
      "odd 101\n",
      "even 102\n",
      "odd 103\n",
      "even 104\n",
      "odd 105\n",
      "even 106\n",
      "odd 107\n",
      "even 108\n",
      "odd 109\n",
      "even 110\n",
      "odd 111\n",
      "even 112\n",
      "odd 113\n",
      "even 114\n",
      "odd 115\n",
      "even 116\n",
      "odd 117\n",
      "even 118\n",
      "odd 119\n",
      "even 120\n",
      "odd 121\n",
      "even 122\n"
     ]
    }
   ],
   "source": [
    "i=100\n",
    "x=int(input(\"Enter number you want to enter from 100 till ....\"))\n",
    "while True:\n",
    "    if x==i:\n",
    "        break\n",
    "        \n",
    "    else:\n",
    "        if i%2==0:\n",
    "            print('even',i)\n",
    "            i=i+1\n",
    "        else:\n",
    "            print('odd',i)\n",
    "            i=i+1\n",
    "            \n",
    "    if i==200:\n",
    "        break\n"
   ]
  },
  {
   "cell_type": "markdown",
   "metadata": {},
   "source": [
    "# Task 6\n",
    "Write a table of 14 using function."
   ]
  },
  {
   "cell_type": "code",
   "execution_count": 15,
   "metadata": {},
   "outputs": [
    {
     "name": "stdout",
     "output_type": "stream",
     "text": [
      "14 X 1 = 14\n",
      "14 X 2 = 28\n",
      "14 X 3 = 42\n",
      "14 X 4 = 56\n",
      "14 X 5 = 70\n",
      "14 X 6 = 84\n",
      "14 X 7 = 98\n",
      "14 X 8 = 112\n",
      "14 X 9 = 126\n",
      "14 X 10 = 140\n"
     ]
    }
   ],
   "source": [
    "def multiplication(x):\n",
    "    for i in range(1,11):\n",
    "        print(x,'X',i,'=',i*x)\n",
    "\n",
    "multiplication(14)    "
   ]
  },
  {
   "cell_type": "markdown",
   "metadata": {},
   "source": [
    "# Task 7\n",
    "Using lambda argument find cube for given list?<br>\n",
    "list=[2,5,7,9,15]"
   ]
  },
  {
   "cell_type": "code",
   "execution_count": 16,
   "metadata": {},
   "outputs": [
    {
     "name": "stdout",
     "output_type": "stream",
     "text": [
      "\n",
      "Cube every number of the said list:\n",
      "[8, 125, 343, 729, 3375]\n"
     ]
    }
   ],
   "source": [
    "nums = [2,5,7,9,15]\n",
    "\n",
    "print(\"\\nCube every number of the said list:\")\n",
    "cube_nums = list(map(lambda x: x ** 3, nums))\n",
    "print(cube_nums)"
   ]
  },
  {
   "cell_type": "markdown",
   "metadata": {},
   "source": [
    "# Task 8\n",
    "Calculate sin(90),cos(90) & tan(90)<br>   **Hint**: use math module"
   ]
  },
  {
   "cell_type": "code",
   "execution_count": 21,
   "metadata": {},
   "outputs": [
    {
     "name": "stdout",
     "output_type": "stream",
     "text": [
      "The value of sine 90 is : 1.0\n",
      "6.123233995736766e-17\n",
      "1.633123935319537e+16\n"
     ]
    }
   ],
   "source": [
    "import math\n",
    "a = math.pi / 2\n",
    "# returning the value of sine of pi / 6  \n",
    "print (\"The value of sine 90 is : \", end =\"\")  \n",
    "print (math.sin(a))\n",
    "print(float(math.cos(a)))\n",
    "print(math.tan(a))"
   ]
  },
  {
   "cell_type": "markdown",
   "metadata": {},
   "source": [
    "# Task 9\n",
    "Write a program for Area of circle. (given r=9)<br>**Hint:** Use pi value from python module\n"
   ]
  },
  {
   "cell_type": "code",
   "execution_count": 22,
   "metadata": {},
   "outputs": [
    {
     "name": "stdout",
     "output_type": "stream",
     "text": [
      "254.46900494077323\n"
     ]
    }
   ],
   "source": [
    "import math\n",
    "r=9\n",
    "print(math.pi*r*r)"
   ]
  },
  {
   "cell_type": "markdown",
   "metadata": {},
   "source": [
    "# Task 10\n",
    "Convert given number to binary: 2,344,512,78"
   ]
  },
  {
   "cell_type": "code",
   "execution_count": 23,
   "metadata": {},
   "outputs": [
    {
     "name": "stdout",
     "output_type": "stream",
     "text": [
      "1101111110010111000101001110"
     ]
    }
   ],
   "source": [
    "# Function to convert decimal number \n",
    "# to binary using recursion \n",
    "def DecimalToBinary(num): \n",
    "      \n",
    "    if num > 1: \n",
    "        DecimalToBinary(num // 2) \n",
    "    print(num % 2, end = '') \n",
    "  \n",
    "      \n",
    "DecimalToBinary(234451278) "
   ]
  },
  {
   "cell_type": "markdown",
   "metadata": {},
   "source": [
    "# Task 11\n",
    "- From the given list, extract the \"Hex\" and print it"
   ]
  },
  {
   "cell_type": "code",
   "execution_count": 31,
   "metadata": {},
   "outputs": [
    {
     "name": "stdout",
     "output_type": "stream",
     "text": [
      "['Hex']\n"
     ]
    }
   ],
   "source": [
    "list2=[22,[4, [True, False], 6, 8], [888, 999,[111,222,[\"Hex\"]]] ]\n",
    "print(list2[2][2][2])"
   ]
  },
  {
   "cell_type": "markdown",
   "metadata": {},
   "source": [
    "# Task 12\n",
    "list=[1,2,3,4,5,6,7,8,9,10]  filter the even number."
   ]
  },
  {
   "cell_type": "code",
   "execution_count": 32,
   "metadata": {},
   "outputs": [
    {
     "name": "stdout",
     "output_type": "stream",
     "text": [
      "[2, 4, 6, 8, 10]\n"
     ]
    }
   ],
   "source": [
    "list1=[1,2,3,4,5,6,7,8,9,10]\n",
    "list2=[]\n",
    "for i in list1:\n",
    "    if i%2==0:\n",
    "        list2.append(i)\n",
    "print(list2)"
   ]
  },
  {
   "cell_type": "markdown",
   "metadata": {},
   "source": [
    "# Task 13\n",
    "Print your local time & Date using datetime module."
   ]
  },
  {
   "cell_type": "code",
   "execution_count": 33,
   "metadata": {},
   "outputs": [
    {
     "name": "stdout",
     "output_type": "stream",
     "text": [
      "2020-09-18 16:41:45.125602\n"
     ]
    }
   ],
   "source": [
    "from datetime import datetime\n",
    "# Current date time in local system\n",
    "print(datetime.now())"
   ]
  },
  {
   "cell_type": "markdown",
   "metadata": {},
   "source": [
    "# Task 14\n",
    "Print all attributes and functions of platform module. <br>\n",
    "Hint: There is a built-in python function to do so <br>\n",
    "https://docs.python.org/3/library/functions.html"
   ]
  },
  {
   "cell_type": "code",
   "execution_count": 53,
   "metadata": {},
   "outputs": [
    {
     "name": "stdout",
     "output_type": "stream",
     "text": [
      "['__build_class__', '__import__', 'abs', 'all', 'any', 'ascii', 'bin', 'breakpoint', 'callable', 'chr', 'compile', 'delattr', 'dir', 'divmod', 'eval', 'exec', 'format', 'getattr', 'globals', 'hasattr', 'hash', 'hex', 'id', 'isinstance', 'issubclass', 'iter', 'len', 'locals', 'max', 'min', 'next', 'oct', 'ord', 'pow', 'print', 'repr', 'round', 'setattr', 'sorted', 'sum', 'vars', 'open']\n"
     ]
    }
   ],
   "source": [
    "import types\n",
    "import builtins\n",
    "dir(builtins)\n",
    "builtin_function_names = [name for name, obj in vars(builtins).items() \n",
    "                          if isinstance(obj, types.BuiltinFunctionType)]\n",
    "print(builtin_function_names)"
   ]
  },
  {
   "cell_type": "markdown",
   "metadata": {},
   "source": [
    "# Task 15\n",
    "if s = '345.14159265358979124' and you have to print first 16 digit.<br>**Hint**: Refer sys module"
   ]
  },
  {
   "cell_type": "code",
   "execution_count": 64,
   "metadata": {},
   "outputs": [
    {
     "data": {
      "text/plain": [
       "'345.1415926535898'"
      ]
     },
     "execution_count": 64,
     "metadata": {},
     "output_type": "execute_result"
    }
   ],
   "source": [
    "s = '345.14159265358979124'\n",
    "format(float(s), '.16g')"
   ]
  },
  {
   "cell_type": "markdown",
   "metadata": {},
   "source": [
    "# Task 16\n",
    "Take value from the user and Seprate them into Positive & negative number."
   ]
  },
  {
   "cell_type": "code",
   "execution_count": 59,
   "metadata": {},
   "outputs": [
    {
     "name": "stdin",
     "output_type": "stream",
     "text": [
      "Enter number of elements :  3\n",
      " 1\n",
      " -2\n",
      " 2\n"
     ]
    },
    {
     "name": "stdout",
     "output_type": "stream",
     "text": [
      "Negative [-2]\n",
      "Positive [1, 2]\n"
     ]
    }
   ],
   "source": [
    "# creating an empty list \n",
    "lst = [] \n",
    "# number of elemetns as input \n",
    "n = int(input(\"Enter number of elements : \"))   \n",
    "# iterating till the range \n",
    "for i in range(0, n): \n",
    "    ele = int(input()) \n",
    "    lst.append(ele) # adding the element     \n",
    "x1=[]\n",
    "x2=[]\n",
    "for i in lst:\n",
    "    if i<0:\n",
    "        x1.append(i)\n",
    "    else:\n",
    "        x2.append(i)\n",
    "print('Negative',x1)\n",
    "print('Positive',x2)\n"
   ]
  },
  {
   "cell_type": "markdown",
   "metadata": {},
   "source": [
    "# Task 17\n",
    "Display Operating system name.<br>**Hint:** Package/module to used."
   ]
  },
  {
   "cell_type": "code",
   "execution_count": 48,
   "metadata": {},
   "outputs": [
    {
     "name": "stdout",
     "output_type": "stream",
     "text": [
      "Operating system: Windows\n"
     ]
    }
   ],
   "source": [
    "import platform \n",
    "# displaying OS name \n",
    "print('Operating system:', platform.system()) "
   ]
  },
  {
   "cell_type": "markdown",
   "metadata": {},
   "source": [
    "# Task 18\n",
    "Find the nearest number of 2.6 in upward & downword case."
   ]
  },
  {
   "cell_type": "code",
   "execution_count": 47,
   "metadata": {},
   "outputs": [
    {
     "name": "stdout",
     "output_type": "stream",
     "text": [
      "Upward 3\n",
      "Downward 1\n"
     ]
    }
   ],
   "source": [
    "x=2.6\n",
    "print('Upward',int(x+1))\n",
    "print('Downward',int(x-1))"
   ]
  },
  {
   "cell_type": "markdown",
   "metadata": {},
   "source": [
    "# Task 19\n",
    "thistuple = (\"apple\", \"banana\", \"cherry\", \"orange\", \"kiwi\", \"melon\", \"mango\")<br>Print thistuple in reverse format."
   ]
  },
  {
   "cell_type": "code",
   "execution_count": 44,
   "metadata": {},
   "outputs": [
    {
     "name": "stdout",
     "output_type": "stream",
     "text": [
      "('mango', 'melon', 'kiwi', 'orange', 'cherry', 'banana', 'apple')\n"
     ]
    }
   ],
   "source": [
    "thistuple = (\"apple\", \"banana\", \"cherry\", \"orange\", \"kiwi\", \"melon\", \"mango\")\n",
    "print(thistuple[::-1])"
   ]
  },
  {
   "cell_type": "markdown",
   "metadata": {},
   "source": [
    "# Task 20\n",
    "Calculate mean, median, mode and standard deviation of given list.<br>\n",
    "A=[2,5,6,9,7,3]<br>B=[2,5,3,2,8,3,2,1,9,4,2,5,6]<br>C=[1,1.5,2,2.5,3,3.5,4,5,6,4.5,5]"
   ]
  },
  {
   "cell_type": "code",
   "execution_count": 41,
   "metadata": {},
   "outputs": [
    {
     "name": "stdout",
     "output_type": "stream",
     "text": [
      "5.333333333333333\n",
      "5.5\n",
      "ModeResult(mode=array([2]), count=array([1]))\n",
      "4.0\n",
      "3.0\n",
      "ModeResult(mode=array([2]), count=array([4]))\n",
      "3.4545454545454546\n",
      "3.5\n",
      "ModeResult(mode=array([5.]), count=array([2]))\n"
     ]
    }
   ],
   "source": [
    "A=[2,5,6,9,7,3]\n",
    "B=[2,5,3,2,8,3,2,1,9,4,2,5,6]\n",
    "C=[1,1.5,2,2.5,3,3.5,4,5,6,4.5,5]\n",
    "\n",
    "import numpy\n",
    "from scipy import stats\n",
    "x=numpy.mean(A)\n",
    "y=numpy.median(A)\n",
    "z=stats.mode(A)\n",
    "print(x)\n",
    "print(y)\n",
    "print(z)\n",
    "x=numpy.mean(B)\n",
    "y=numpy.median(B)\n",
    "z=stats.mode(B)\n",
    "print(x)\n",
    "print(y)\n",
    "print(z)\n",
    "x=numpy.mean(C)\n",
    "y=numpy.median(C)\n",
    "z=stats.mode(C)\n",
    "print(x)\n",
    "print(y)\n",
    "print(z)"
   ]
  }
 ],
 "metadata": {
  "kernelspec": {
   "display_name": "Python 3",
   "language": "python",
   "name": "python3"
  },
  "language_info": {
   "codemirror_mode": {
    "name": "ipython",
    "version": 3
   },
   "file_extension": ".py",
   "mimetype": "text/x-python",
   "name": "python",
   "nbconvert_exporter": "python",
   "pygments_lexer": "ipython3",
   "version": "3.7.3"
  }
 },
 "nbformat": 4,
 "nbformat_minor": 4
}
