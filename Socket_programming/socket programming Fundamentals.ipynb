{
 "cells": [
  {
   "cell_type": "code",
   "execution_count": 66,
   "metadata": {},
   "outputs": [
    {
     "name": "stdout",
     "output_type": "stream",
     "text": [
      "Your Computer Name is:LAPTOP-VE11518E\n",
      "\n",
      "Your Computer IP Address is:192.168.43.127\n"
     ]
    }
   ],
   "source": [
    "import socket\n",
    "import _pickle as cPickle  \n",
    "import time\n",
    "\n",
    "hostname = socket.gethostname()    \n",
    "IPAddr = socket.gethostbyname(hostname)   \n",
    "\n",
    "print(\"Your Computer Name is:\" + hostname)    \n",
    "print(\"\\nYour Computer IP Address is:\" + IPAddr)"
   ]
  },
  {
   "cell_type": "code",
   "execution_count": 67,
   "metadata": {},
   "outputs": [
    {
     "name": "stdout",
     "output_type": "stream",
     "text": [
      "Socked created!\n"
     ]
    }
   ],
   "source": [
    "s = socket.socket() #socket.AF_INET IPv6 adress family ,socket.SOCK_STREAM Means TCP\n",
    "\n",
    "print(\"Socked created!\")"
   ]
  },
  {
   "cell_type": "code",
   "execution_count": 68,
   "metadata": {},
   "outputs": [
    {
     "name": "stdout",
     "output_type": "stream",
     "text": [
      "IP Address of www.iotand5g.blogspot.com is 172.217.163.193\n"
     ]
    }
   ],
   "source": [
    "\"\"\"After creating a socket, we now able to connect to the server via a certain port number. \n",
    "We need an IP address and port number to connect to. \n",
    "We will use port 80 which is http default port and ip address of my blog  as an example.\"\"\"\n",
    "\n",
    "host = 'www.iotand5g.blogspot.com'\n",
    "\n",
    "remote_ip = socket.gethostbyname(host)\n",
    "\n",
    "print(\"IP Address of \" + host + \" is \" + remote_ip)"
   ]
  },
  {
   "cell_type": "code",
   "execution_count": 69,
   "metadata": {},
   "outputs": [
    {
     "name": "stdout",
     "output_type": "stream",
     "text": [
      "IP Address of www.iotand5g.blogspot.com is 172.217.163.193\n",
      "Socket connected to www.iotand5g.blogspot.com on ip 172.217.163.193\n"
     ]
    }
   ],
   "source": [
    "port = 80\n",
    "\n",
    "print(\"IP Address of \" + host + \" is \" + remote_ip)\n",
    "\n",
    "s.connect((remote_ip, port))\n",
    "\n",
    "print(\"Socket connected to \" + host + \" on ip \" + remote_ip)"
   ]
  },
  {
   "cell_type": "code",
   "execution_count": 70,
   "metadata": {},
   "outputs": [
    {
     "name": "stdout",
     "output_type": "stream",
     "text": [
      "HTTP/1.1 200 OK\r\n",
      "Date: Wed, 01 Jul 2020 10:00:48 GMT\r\n",
      "Expires: -1\r\n",
      "Cache-Control: private, max-age=0\r\n",
      "Content-Type: text/html; charset=ISO-8859-1\r\n",
      "P3P: CP=\"This is not a P3P policy! See g.co/p3phelp for more info.\"\r\n",
      "Server: gws\r\n",
      "X-XSS-Protection: 0\r\n",
      "X-Frame-Options: SAMEORIGIN\r\n",
      "Set-Cookie: 1P_JAR=2020-07-01-10; expires=Fri, 31-Jul-2020 10:00:48 GMT; path=/; domain=.google.com; Secure\r\n",
      "Set-Cookie: NID=204=SnvCGTupZcr8k2UsAf2SA_FnlEs3cSG1khPUDL2kG9RquigIMnQ1ABrBEPiQAJEtkK6OFKTfUahQnKrXXgYs2k5tCVKD7lxKflH6dduL1qF4S1kCGVxV2RZy2NJiBk1tlYSMfrkDh40GIx24-EaoOgEc0VFQ7O4sXHDR4Hx0Pko; expires=Thu, 31-Dec-2020 10:00:48 GMT; path=/; domain=.google.com; HttpOnly\r\n",
      "Accept-Ranges: none\r\n",
      "Vary: Accept-Encoding\r\n",
      "Transfer-Encoding: chunked\r\n",
      "\r\n",
      "631b\r\n",
      "<!doctype html><html itemscope=\"\" itemtype=\"http://schema.org/WebPage\" lang=\"en-IN\"><head><meta content=\"text/html; charset=UTF-8\" http-equiv=\"Content-Type\"><meta content=\"/images/branding/googleg/1x/googleg_standard_color_128dp.png\" itemprop=\"image\"><title>Google</title><script nonce=\"fDC3Ao5MDfQ4xNtHc1eWkQ==\">(function(){window.google={kEI:'0F78XtyxBZOI4-EPr96msA8',kEXPI:'0,18167,183956,3,4,32,1151584,5663,730,224,5105,206,3204,10,1226,364,1499,576,241,383,246,5,1184,170,647,514,533,2184,233,186,117,3,369,681,42,49,173,19,183,69,1121764,1197717,432,302813,26305,1294,12383,4855,32691,8163,7085,867,17444,11240,9188,8384,4859,1361,9290,3022,3896,850,11033,1808,4020,978,4784,1,3146,5297,2054,920,2087,5762,3230,1,415,1141,7512,2653,3221,4517,2778,919,261,2016,8,2796,1593,1279,2212,532,147,1103,841,516,1522,4258,108,204,1132,4,3,2063,606,1839,184,1777,143,377,1947,2229,93,328,1284,16,2927,2246,474,1339,1787,3227,1990,855,7,4774,37,1257,6286,4455,641,2449,2459,1226,1406,337,3653,1275,108,3409,906,2,941,2614,2397,2650,3685,1135,840,1337,1098,3,576,970,865,7,366,3545,707,148,189,3312,503,1,1538,8,439,28,130,1,2093,91,3851,105,934,109,643,4,1528,17,358,1929,1227,9,271,561,313,405,1840,20,177,69,199,1650,331,41,15,785,917,10,42,214,761,441,962,462,460,120,1223,212,1140,629,2298,97,939,1229,86,613,883,522,1265,1406,20,69,1,23,69,212,623,392,337,459,499,582,723,209,286,270,741,500,440,8,1,1,1493,981,987,28,217,32,249,72,326,2,1,82,108,91,5,168,24,864,1392,572,66,264,240,4,866,278,5,281,469,56,22,142,118,313,30,131,704,98,2,696,319,413,3,1093,5794856,3481,8798434,549,333,444,1,2,80,1,900,896,1,8,1,2,2551,1,748,141,59,736,563,1,4265,1,1,1,1,137,1,879,9,305,1356,1408,63,29,16,29,39,16,7,6,7,5,15,2,2,3,8,7,3,18,23961364',kBL:'e1MD'};google.sn='webhp';google.kHL='en-IN';})();(function(){google.lc=[];google.li=0;google.getEI=function(a){for(var c;a&&(!a.getAttribute||!(c=a.getAttribute(\"eid\")));)a=a.parentNode;return c||google.kEI};google.getLEI=function(a){for(var c=null;a&&(!a.getAttribute||!(c=a.getAttribute(\"leid\")));)a=a.parentNode;return c};google.ml=function(){return null};google.time=function(){return Date.now()};google.log=function(a,c,b,d,g){if(b=google.logUrl(a,c,b,d,g)){a=new Image;var e=google.lc,f=google.li;e[f]=a;a.onerror=a.onload=a.onabort=function(){delete e[f]};google.vel&&google.vel.lu&&google.vel.lu(b);a.src=b;google.li=f+1}};google.logUrl=function(a,c,b,d,g){var e=\"\",f=google.ls||\"\";b||-1!=c.search(\"&ei=\")||(e=\"&ei=\"+google.getEI(d),-1==c.search(\"&lei=\")&&(d=google.getLEI(d))&&(e+=\"&lei=\"+d));d=\"\";!b&&google.cshid&&-1==c.search(\"&cshid=\")&&\"slh\"!=a&&(d=\"&cshid=\"+google.cshid);b=b||\"/\"+(g||\"gen_204\")+\"?atyp=i&ct=\"+a+\"&cad=\"+c+e+f+\"&zx=\"+google.time()+d;/^http:/i.test(b)&&\"https:\"==window.location.protocol&&(google.ml(Error(\"a\"),!1,{src:b,glmm:1}),b=\"\");return b};}).call(this);(function(){google.y={};google.x=function(a,b){if(a)var c=a.id;else{do c=Math.random();while(google.y[c])}google.y[c]=[a,b];return!1};google.lm=[];google.plm=function(a){google.lm.push.apply(google.lm,a)};google.lq=[];google.load=function(a,b,c){google.lq.push([[a],b,c])};google.loadAll=function(a,b){google.lq.push([a,b])};}).call(this);google.f={};(function(){\n",
      "document.documentElement.addEventListener(\"submit\",function(b){var a;if(a=b.target){var c=a.getAttribute(\"data-submitfalse\");a=\"1\"==c||\"q\"==c&&!a.elements.q.value?\n"
     ]
    }
   ],
   "source": [
    "message = \"GET / HTTP/1.1\\r\\n\\r\\n\"\n",
    "\n",
    "message=message.encode('utf-8')\n",
    "\n",
    "s.sendall(message)\n",
    "\n",
    "reply = s.recv(4096).decode()\n",
    "\n",
    "print(str(reply))\n"
   ]
  },
  {
   "cell_type": "code",
   "execution_count": 71,
   "metadata": {},
   "outputs": [
    {
     "name": "stdout",
     "output_type": "stream",
     "text": [
      "Starting client prog\n",
      "Socket successfully created.\n"
     ]
    }
   ],
   "source": [
    "\"\"\"Client side \"\"\"\n",
    "\n",
    "BUFFSIZE = 1024\n",
    "print(\"Starting client prog\")\n",
    "\n",
    "try:\n",
    "    s = socket.socket(socket.AF_INET, socket.SOCK_STREAM)\n",
    "    print(\"Socket successfully created.\")\n",
    "except socket.error as err:\n",
    "    print(\"Socket creation failed with error %s\" %(err))\n",
    "\n",
    "host = ''\n",
    "port = 12321\n",
    "\n"
   ]
  }
 ],
 "metadata": {
  "kernelspec": {
   "display_name": "Python 3",
   "language": "python",
   "name": "python3"
  },
  "language_info": {
   "codemirror_mode": {
    "name": "ipython",
    "version": 3
   },
   "file_extension": ".py",
   "mimetype": "text/x-python",
   "name": "python",
   "nbconvert_exporter": "python",
   "pygments_lexer": "ipython3",
   "version": "3.7.3"
  }
 },
 "nbformat": 4,
 "nbformat_minor": 2
}
