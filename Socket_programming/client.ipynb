{
 "cells": [
  {
   "cell_type": "code",
   "execution_count": null,
   "metadata": {},
   "outputs": [],
   "source": [
    "\"\"\" server side \"\"\"\n",
    "\n",
    "import socket \n",
    "\n",
    "s=socket.socket()\n",
    "\n",
    "print(\"Socket is created !!\")\n",
    "\n",
    "s.bind(('localhost',9999))\n",
    "\n",
    "s.listen(3)\n",
    "\n",
    "print(\"waiting for connections\")\n",
    "\n",
    "while True:\n",
    "    \n",
    "    c,address=s.accept()\n",
    "    \n",
    "    name= (c.recv(1024).decode())\n",
    "\n",
    "    print(\"connected with adress \",address,\" name \",name)\n",
    "        \n",
    "    c.send(bytes(\" Hi Vishal!!! \",'utf-8'))\n",
    "    \n",
    "    c.close()"
   ]
  }
 ],
 "metadata": {
  "kernelspec": {
   "display_name": "Python 3",
   "language": "python",
   "name": "python3"
  },
  "language_info": {
   "codemirror_mode": {
    "name": "ipython",
    "version": 3
   },
   "file_extension": ".py",
   "mimetype": "text/x-python",
   "name": "python",
   "nbconvert_exporter": "python",
   "pygments_lexer": "ipython3",
   "version": "3.7.3"
  }
 },
 "nbformat": 4,
 "nbformat_minor": 2
}
